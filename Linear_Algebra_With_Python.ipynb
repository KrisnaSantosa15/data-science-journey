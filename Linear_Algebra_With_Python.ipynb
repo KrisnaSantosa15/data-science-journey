{
  "nbformat": 4,
  "nbformat_minor": 0,
  "metadata": {
    "colab": {
      "provenance": []
    },
    "kernelspec": {
      "name": "python3",
      "display_name": "Python 3"
    },
    "language_info": {
      "name": "python"
    }
  },
  "cells": [
    {
      "cell_type": "markdown",
      "source": [
        "# LINEAR ALGEBRA"
      ],
      "metadata": {
        "id": "VvlbGy9zAKMn"
      }
    },
    {
      "cell_type": "code",
      "source": [
        "import numpy as np"
      ],
      "metadata": {
        "id": "Q_GxQeXFB5Vh"
      },
      "execution_count": 3,
      "outputs": []
    },
    {
      "cell_type": "markdown",
      "source": [
        "## Scalar, Vector, dan Matrix"
      ],
      "metadata": {
        "id": "7ycmPDUTAXk8"
      }
    },
    {
      "cell_type": "code",
      "execution_count": 1,
      "metadata": {
        "colab": {
          "base_uri": "https://localhost:8080/"
        },
        "id": "RED1aWNM_pLQ",
        "outputId": "dca157a9-5de2-424f-a5d6-bbec04c1539a"
      },
      "outputs": [
        {
          "output_type": "stream",
          "name": "stdout",
          "text": [
            "5\n"
          ]
        }
      ],
      "source": [
        "# Scalar\n",
        "S = 5\n",
        "print(S)"
      ]
    },
    {
      "cell_type": "code",
      "source": [
        "# Vector\n",
        "V = np.array([[1, 2, 3, 4, 5]])\n",
        "print(V.shape)\n",
        "print(V)"
      ],
      "metadata": {
        "colab": {
          "base_uri": "https://localhost:8080/"
        },
        "id": "pU6GXFfjBRdJ",
        "outputId": "f05c1aba-e9c9-4142-fac9-6c335f3e1395"
      },
      "execution_count": 6,
      "outputs": [
        {
          "output_type": "stream",
          "name": "stdout",
          "text": [
            "(1, 5)\n",
            "[[1 2 3 4 5]]\n"
          ]
        }
      ]
    },
    {
      "cell_type": "code",
      "source": [
        "# Matrix\n",
        "M = np.matrix([[1, 2, 3], [4, 5, 6], [7,8,9]])\n",
        "print(M.shape)\n",
        "print(M)"
      ],
      "metadata": {
        "colab": {
          "base_uri": "https://localhost:8080/"
        },
        "id": "kr5wE8q0CRB_",
        "outputId": "d155b147-86a7-4504-b666-d3e230da052c"
      },
      "execution_count": 8,
      "outputs": [
        {
          "output_type": "stream",
          "name": "stdout",
          "text": [
            "(3, 3)\n",
            "[[1 2 3]\n",
            " [4 5 6]\n",
            " [7 8 9]]\n"
          ]
        }
      ]
    },
    {
      "cell_type": "markdown",
      "source": [
        "## Operasi-operasi Matrix"
      ],
      "metadata": {
        "id": "PbSp6MylCk7j"
      }
    },
    {
      "cell_type": "code",
      "source": [
        "# Definisikan Marix A dan B\n",
        "A = np.matrix([[3, 0],\n",
        "               [-1,2],\n",
        "               [1, 1]])\n",
        "\n",
        "B = np.matrix([[4,-1],\n",
        "               [0, 2]])\n",
        "\n",
        "C = np.matrix([[1,4,2],\n",
        "               [3,1,5]])\n",
        "\n",
        "print(\"Ukuran matrix A: \",A.shape)\n",
        "print(\"Matrix A: \\n\", A)\n",
        "print(\"\\n\")\n",
        "print(\"Ukuran matrix B: \",B.shape)\n",
        "print(\"Matrix B: \\n\", B)\n",
        "print(\"\\n\")\n",
        "print(\"Ukuran matrix C: \",C.shape)\n",
        "print(\"Matrix C: \\n\", C)"
      ],
      "metadata": {
        "colab": {
          "base_uri": "https://localhost:8080/"
        },
        "id": "tUS4MGeaCgPp",
        "outputId": "2bc8b4da-3a8e-45ae-90ac-c70ba0a57e19"
      },
      "execution_count": 15,
      "outputs": [
        {
          "output_type": "stream",
          "name": "stdout",
          "text": [
            "Ukuran matrix A:  (3, 2)\n",
            "Matrix A: \n",
            " [[ 3  0]\n",
            " [-1  2]\n",
            " [ 1  1]]\n",
            "\n",
            "\n",
            "Ukuran matrix B:  (2, 2)\n",
            "Matrix B: \n",
            " [[ 4 -1]\n",
            " [ 0  2]]\n",
            "\n",
            "\n",
            "Ukuran matrix C:  (2, 3)\n",
            "Matrix C: \n",
            " [[1 4 2]\n",
            " [3 1 5]]\n"
          ]
        }
      ]
    },
    {
      "cell_type": "markdown",
      "source": [
        "**Tentukan (untuk no 1 – 4) matriks hasil operasi berikut ini :**\n",
        "1. AB\n",
        "2. 3CA\n",
        "3. (AB)C\n",
        "4. (4B)C + 2C"
      ],
      "metadata": {
        "id": "soKCTHf_Fdck"
      }
    },
    {
      "cell_type": "code",
      "source": [
        "# Soal no 1\n",
        "A * B"
      ],
      "metadata": {
        "colab": {
          "base_uri": "https://localhost:8080/"
        },
        "id": "1aRsMzefFhL5",
        "outputId": "0778c7f5-c182-4a15-b463-8c5e8f204c4e"
      },
      "execution_count": 16,
      "outputs": [
        {
          "output_type": "execute_result",
          "data": {
            "text/plain": [
              "matrix([[12, -3],\n",
              "        [-4,  5],\n",
              "        [ 4,  1]])"
            ]
          },
          "metadata": {},
          "execution_count": 16
        }
      ]
    },
    {
      "cell_type": "code",
      "source": [
        "# Soal no 2\n",
        "X = 3 * C\n",
        "print(\"X = 3 * C:\\n\", X)\n",
        "print(\"\\n\")\n",
        "print(\"X * A: \\n\", X * A)\n",
        "print(\"\\n\")\n",
        "print(\"Atau\")\n",
        "Hasil = 3 * C * A\n",
        "print(\"3 x C x A:\\n\", Hasil)"
      ],
      "metadata": {
        "colab": {
          "base_uri": "https://localhost:8080/"
        },
        "id": "sFeZOCQcGApP",
        "outputId": "9c33072c-270e-461e-dfef-646cf873ab24"
      },
      "execution_count": 28,
      "outputs": [
        {
          "output_type": "stream",
          "name": "stdout",
          "text": [
            "X = 3 * C:\n",
            " [[ 3 12  6]\n",
            " [ 9  3 15]]\n",
            "\n",
            "\n",
            "X * A: \n",
            " [[ 3 30]\n",
            " [39 21]]\n",
            "\n",
            "\n",
            "Atau\n",
            "3 x C x A:\n",
            " [[ 3 30]\n",
            " [39 21]]\n"
          ]
        }
      ]
    },
    {
      "cell_type": "code",
      "source": [
        "# Soal no 3\n",
        "Hasil = (A * B) * C\n",
        "print(\"(A x B) x C:\\n\", Hasil)"
      ],
      "metadata": {
        "colab": {
          "base_uri": "https://localhost:8080/"
        },
        "id": "bMKdR8RdHYTU",
        "outputId": "adbb69df-022d-452c-c349-a4f6487ad989"
      },
      "execution_count": 29,
      "outputs": [
        {
          "output_type": "stream",
          "name": "stdout",
          "text": [
            "(A x B) x C:\n",
            " [[  3  45   9]\n",
            " [ 11 -11  17]\n",
            " [  7  17  13]]\n"
          ]
        }
      ]
    },
    {
      "cell_type": "code",
      "source": [
        "# Soal no 4\n",
        "Hasil = ((4 * B) * C) + (2 * C)\n",
        "print(\"(4 x B) * C + (2 x C):\\n\", Hasil)"
      ],
      "metadata": {
        "colab": {
          "base_uri": "https://localhost:8080/"
        },
        "id": "2TptCD_hHhxq",
        "outputId": "1939915e-1f57-4f1f-f84e-681d6a371844"
      },
      "execution_count": 32,
      "outputs": [
        {
          "output_type": "stream",
          "name": "stdout",
          "text": [
            "(4 x B) * C + (2 x C):\n",
            " [[ 6 68 16]\n",
            " [30 10 50]]\n"
          ]
        }
      ]
    },
    {
      "cell_type": "markdown",
      "source": [
        "## Transpose Matrix"
      ],
      "metadata": {
        "id": "RvFLciDdIDEu"
      }
    },
    {
      "cell_type": "code",
      "source": [
        "# Transpose Matrix A\n",
        "print(\"Matrix A:\\n\", A)\n",
        "print(\"\\n\")\n",
        "AT = A.transpose()\n",
        "print(\"Transpose Matrix A:\\n\", AT)"
      ],
      "metadata": {
        "colab": {
          "base_uri": "https://localhost:8080/"
        },
        "id": "Af1eHWTTH0z6",
        "outputId": "0fcc7b58-92d7-4556-e77b-005625aaf828"
      },
      "execution_count": 34,
      "outputs": [
        {
          "output_type": "stream",
          "name": "stdout",
          "text": [
            "Matrix A:\n",
            " [[ 3  0]\n",
            " [-1  2]\n",
            " [ 1  1]]\n",
            "\n",
            "\n",
            "Transpose Matrix A:\n",
            " [[ 3 -1  1]\n",
            " [ 0  2  1]]\n"
          ]
        }
      ]
    },
    {
      "cell_type": "code",
      "source": [
        "# Transpose Matrix B\n",
        "print(\"Matrix B:\\n\", B)\n",
        "print(\"\\n\")\n",
        "BT = B.transpose()\n",
        "print(\"Transpose Matrix B:\\n\", BT)"
      ],
      "metadata": {
        "colab": {
          "base_uri": "https://localhost:8080/"
        },
        "id": "BL8zQF0JIccn",
        "outputId": "abd67f89-6d60-48c8-ebe8-29654b9fcc7d"
      },
      "execution_count": 35,
      "outputs": [
        {
          "output_type": "stream",
          "name": "stdout",
          "text": [
            "Matrix B:\n",
            " [[ 4 -1]\n",
            " [ 0  2]]\n",
            "\n",
            "\n",
            "Transpose Matrix B:\n",
            " [[ 4  0]\n",
            " [-1  2]]\n"
          ]
        }
      ]
    },
    {
      "cell_type": "code",
      "source": [
        "# Transpose Matrix C\n",
        "print(\"Matrix C:\\n\", C)\n",
        "print(\"\\n\")\n",
        "CT = C.transpose()\n",
        "print(\"Transpose Matrix C:\\n\", CT)"
      ],
      "metadata": {
        "colab": {
          "base_uri": "https://localhost:8080/"
        },
        "id": "tHvnKgfJIg5B",
        "outputId": "b210765e-b52f-4dea-a469-1050b6ae2512"
      },
      "execution_count": 36,
      "outputs": [
        {
          "output_type": "stream",
          "name": "stdout",
          "text": [
            "Matrix C:\n",
            " [[1 4 2]\n",
            " [3 1 5]]\n",
            "\n",
            "\n",
            "Transpose Matrix C:\n",
            " [[1 3]\n",
            " [4 1]\n",
            " [2 5]]\n"
          ]
        }
      ]
    },
    {
      "cell_type": "markdown",
      "source": [
        "## Matrix Identitas & Inverse Matrix"
      ],
      "metadata": {
        "id": "DACXtw-zIunS"
      }
    },
    {
      "cell_type": "code",
      "source": [
        "# Matrix Identitas\n",
        "I = np.identity(3)\n",
        "print(\"Matrix Identitas:\\n\", I)"
      ],
      "metadata": {
        "colab": {
          "base_uri": "https://localhost:8080/"
        },
        "id": "79BIcMmGIyMV",
        "outputId": "f1700a4d-4b8c-4046-a7b4-c043ca76342e"
      },
      "execution_count": 37,
      "outputs": [
        {
          "output_type": "stream",
          "name": "stdout",
          "text": [
            "Matrix Identitas:\n",
            " [[1. 0. 0.]\n",
            " [0. 1. 0.]\n",
            " [0. 0. 1.]]\n"
          ]
        }
      ]
    },
    {
      "cell_type": "code",
      "source": [
        "# Inverse Matrix B\n",
        "# Syarat Inverse: Matrix Harus Memiliki Ordo Sama (Berbentuk persegi) 2x2,3x3,4x4...\n",
        "print(\"Matrix B:\\n\", B)\n",
        "print(\"\\n\")\n",
        "B_inv = np.linalg.inv(B)\n",
        "print(\"Inverse Matrix B:\\n\", B_inv)"
      ],
      "metadata": {
        "colab": {
          "base_uri": "https://localhost:8080/"
        },
        "id": "LqSHn-4jI1uz",
        "outputId": "7fabcd9d-685e-49ce-8a0a-1cd7dae9ec67"
      },
      "execution_count": 39,
      "outputs": [
        {
          "output_type": "stream",
          "name": "stdout",
          "text": [
            "Matrix B:\n",
            " [[ 4 -1]\n",
            " [ 0  2]]\n",
            "\n",
            "\n",
            "Inverse Matrix B:\n",
            " [[0.25  0.125]\n",
            " [0.    0.5  ]]\n"
          ]
        }
      ]
    },
    {
      "cell_type": "markdown",
      "source": [
        "## Determinan Matrix"
      ],
      "metadata": {
        "id": "aSzE2fDXJcAk"
      }
    },
    {
      "cell_type": "code",
      "source": [
        "# Determinan Matrix B\n",
        "# Syarat Determinan: Matrix Harus Memiliki Ordo Sama (Berbentuk persegi) 2x2,3x3,4x4...\n",
        "print(\"Matrix B:\\n\", B)\n",
        "print(\"\\n\")\n",
        "print(\"Determinan Matrix B:\\n\", np.linalg.det(B))\n",
        "det = np.linalg.det(B)\n",
        "print(\"Determinan Matrix B (dibulatkan):\", round(det))"
      ],
      "metadata": {
        "colab": {
          "base_uri": "https://localhost:8080/"
        },
        "id": "-2Ugvyh-JRou",
        "outputId": "22a4eb18-ed92-43c4-fe28-744ced1fb49b"
      },
      "execution_count": 44,
      "outputs": [
        {
          "output_type": "stream",
          "name": "stdout",
          "text": [
            "Matrix B:\n",
            " [[ 4 -1]\n",
            " [ 0  2]]\n",
            "\n",
            "\n",
            "Determinan Matrix B:\n",
            " 7.999999999999998\n",
            "Determinan Matrix B (dibulatkan): 8\n"
          ]
        }
      ]
    },
    {
      "cell_type": "markdown",
      "source": [
        "## Solusi Sistem Persamaan Linier\n",
        "\n",
        "x<sub>1</sub> + x<sub>2</sub> + 2x<sub>2</sub> = 9 <br>\n",
        "2x<sub>1</sub> + 4x<sub>2</sub> - 3x<sub>3</sub> = 1 <br>\n",
        "3x<sub>1</sub> + 6x<sub>2</sub> - 5x<sub>3</sub> = 0"
      ],
      "metadata": {
        "id": "dbhmfaULK99j"
      }
    },
    {
      "cell_type": "code",
      "source": [
        "a = np.array([[1,1,2], [2,4,-3], [3,6,-5]])\n",
        "b = np.array([9,1,0])\n",
        "x = np.linalg.solve(a, b)\n",
        "x"
      ],
      "metadata": {
        "colab": {
          "base_uri": "https://localhost:8080/"
        },
        "id": "R-cxq5OyLBvS",
        "outputId": "83db3085-36ae-412e-954b-c535d7b06859"
      },
      "execution_count": 45,
      "outputs": [
        {
          "output_type": "execute_result",
          "data": {
            "text/plain": [
              "array([1., 2., 3.])"
            ]
          },
          "metadata": {},
          "execution_count": 45
        }
      ]
    },
    {
      "cell_type": "markdown",
      "source": [
        "## Eigen"
      ],
      "metadata": {
        "id": "CR1mlqNeLn3C"
      }
    },
    {
      "cell_type": "code",
      "source": [
        "# Eigen Values\n",
        "# Syarat Eigen Value: Matrix Harus Memiliki Ordo Sama (Berbentuk persegi) 2x2,3x3,4x4...\n",
        "print(\"Matrix B:\\n\", B)\n",
        "print(\"\\n\")\n",
        "print(\"Eigen Values:\\n\", np.linalg.eigvals(B))"
      ],
      "metadata": {
        "colab": {
          "base_uri": "https://localhost:8080/"
        },
        "id": "LfaiaXOwLpTQ",
        "outputId": "b107d951-6792-4a8f-d33a-55dfe8329c60"
      },
      "execution_count": 47,
      "outputs": [
        {
          "output_type": "stream",
          "name": "stdout",
          "text": [
            "Matrix B:\n",
            " [[ 4 -1]\n",
            " [ 0  2]]\n",
            "\n",
            "\n",
            "Eigen Values:\n",
            " [4. 2.]\n"
          ]
        }
      ]
    },
    {
      "cell_type": "code",
      "source": [
        "# Eigen Vector\n",
        "x = np.array([0,1,0])\n",
        "a.dot(x) == 2*x"
      ],
      "metadata": {
        "id": "wV_DqVikMMZH"
      },
      "execution_count": null,
      "outputs": []
    }
  ]
}